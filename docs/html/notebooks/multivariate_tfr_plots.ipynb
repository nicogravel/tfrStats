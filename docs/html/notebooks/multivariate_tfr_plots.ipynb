{
 "cells": [
  {
   "cell_type": "markdown",
   "metadata": {
    "id": "j_Q6VK26-3j0"
   },
   "source": [
    "# <span style=\"color:#3498db\">**Multiviariate TFR statistics, a mini-tutorial**</span>\n",
    "\n",
    "To run the [notebook](https://github.com/nicogravel/tfrStats/blob/main/docs/html/notebooks/multivariate_tfr_stats.ipynb), clone the package (or your fork) locally and then:"
   ]
  },
  {
   "cell_type": "markdown",
   "metadata": {},
   "source": [
    "## Compute RDM reliability using permutations "
   ]
  },
  {
   "cell_type": "code",
   "execution_count": 2,
   "metadata": {},
   "outputs": [
    {
     "name": "stdout",
     "output_type": "stream",
     "text": [
      "session:  0\n",
      "(12, 19, 30, 30, 57)\n"
     ]
    },
    {
     "data": {
      "application/vnd.jupyter.widget-view+json": {
       "model_id": "d9a2d871df1c46b79a6ec7f7e17989d7",
       "version_major": 2,
       "version_minor": 0
      },
      "text/plain": [
       "0:   0%|          | 0/12 [00:00<?, ?it/s]"
      ]
     },
     "metadata": {},
     "output_type": "display_data"
    },
    {
     "name": "stdout",
     "output_type": "stream",
     "text": [
      "/Volumes/Gandalf/MWlamprop/results/stats/multivariate/mvtfr_grat_low_1000.npy\n",
      "session:  0\n",
      "(12, 16, 30, 30, 113)\n"
     ]
    },
    {
     "data": {
      "application/vnd.jupyter.widget-view+json": {
       "model_id": "8b959ba4e3914cb885c2447c62cc6155",
       "version_major": 2,
       "version_minor": 0
      },
      "text/plain": [
       "0:   0%|          | 0/12 [00:00<?, ?it/s]"
      ]
     },
     "metadata": {},
     "output_type": "display_data"
    }
   ],
   "source": [
    "import os\n",
    "import numpy as np\n",
    "from tfrStats.load_tfr_rdm import load_tfr_rdm as load_tfr_rdm\n",
    "from tfrStats.mvtfr_reliability import mvtfr_reliability as mvtfr_reliability  \n",
    "\n",
    "fbands  = ['low','high','higher','mua']\n",
    "blocks   = ['grat', 'nat','obj','bck']\n",
    "\n",
    "example_data = '/Volumes/Gandalf/MWlamprop/results/stats/multivariate/'\n",
    "#example_data = '/Users/nicogravel/Documents/Websites/tfrStats/tfrStats_local/docs/source/notebooks/example_data/'\n",
    "\n",
    "\n",
    "\n",
    "# Loop over blocks and frequency bands\n",
    "for  block in range(3):\n",
    "    for  fband in range(3):\n",
    "\n",
    "        # Configure inputs\n",
    "        conf = {\n",
    "            'paths'    : [\n",
    "            '/Users/nicogravel/Documents/Gandalf/MWlamprop/data/results_bckp/',\n",
    "            # '/mnt/hpc_slurm/projects/MWlamprop/Analysis/02_data/spectral_dec/'\n",
    "            #'/mnt/hpc/projects/MWlamprop/Analysis/02_data/preprocessed/',\n",
    "            #'/mnt/pns/home/graveln/Documents/MWlamprop/results/spectral_dec/',\n",
    "            #'/mnt/hpc/projects/MWlamprop/Analysis/02_data/spectral_dec/',\n",
    "            '/Volumes/Gandalf/MWlamprop/data/',\n",
    "            #'/Users/nicogravel/Documents/Gandalf/MWlamprop/data/results_bckp/',\n",
    "            #'/Users/nicogravel/Documents/Gandalf/MWlamprop/data/processed/spectral_dec/',\n",
    "            '/Volumes/Gandalf/MWlamprop/results/'\n",
    "            ],\n",
    "            'methods'  : ['spectral','mvpa'],\n",
    "            'decvars'  : ['spw','gpr','spwgpr'],\n",
    "            'method'   : 1,\n",
    "            'dvar'     : 0,\n",
    "            'fband'    : fband,\n",
    "            'cond'     : block,\n",
    "            'sess'     : 0,\n",
    "            'layers'   : False,\n",
    "            'lump'     : True,\n",
    "            'rsa'      : True,\n",
    "            'n_perm'   : 1000\n",
    "            }\n",
    "\n",
    "        # Load data\n",
    "        rdms  = load_tfr_rdm(conf)\n",
    "\n",
    "        #rdm1 = rdms['rdm_split1']\n",
    "        #rdm2 = rdms['rdm_split2']\n",
    "        #rdm  = rdms['rdm_whole']\n",
    "        #print(rdm.shape) \n",
    "\n",
    "        # Compute reliability\n",
    "        tfr, tfr_null = mvtfr_reliability(rdms,conf)\n",
    "\n",
    "        # Prepare outputs\n",
    "        tfrs = {\n",
    "                'tfr'  : tfr,\n",
    "                'tfr_null'  : tfr_null,\n",
    "            }\n",
    "\n",
    "        # Save outputs\n",
    "        fname = os.path.join(example_data + 'mvtfr_'\n",
    "                    + blocks[block] + '_' \n",
    "                    + fbands[fband] + '_' + str(conf['n_perm'])\n",
    "                    + '.npy') \n",
    "        print(fname)\n",
    "        np.save(fname,tfrs) \n"
   ]
  },
  {
   "cell_type": "code",
   "execution_count": null,
   "metadata": {},
   "outputs": [],
   "source": [
    "# Save outputs\n",
    "fname = os.path.join(example_data + 'mvtfr_'\n",
    "            + blocks[block] + '_' \n",
    "            + fbands[fband] + '_' + str(conf['n_perm'])\n",
    "            + '.npy') \n",
    "print(fname)\n",
    "np.save(fname,tfrs) "
   ]
  },
  {
   "cell_type": "markdown",
   "metadata": {},
   "source": [
    "## Plot RDM reliability \n",
    "\n",
    "Similarly to the problem of taking the extreme values at each iteration of the permutaion when computing univariate TFRs. Whern computing multivariate TFRs, one is confronted with the decisio of whether to take the extreme value or the average. "
   ]
  },
  {
   "cell_type": "code",
   "execution_count": null,
   "metadata": {},
   "outputs": [],
   "source": [
    "import numpy as np\n",
    "from tfrStats.plot_mvtfr_stats import plot_mvtfr_stats as plot_mvtfr_stats\n",
    "\n",
    "results      = '/Volumes/Gandalf/MWlamprop/results/stats/multivariate/'\n",
    "example_data = '/Users/nicogravel/Documents/Websites/tfrStats/tfrStats_local/docs/source/notebooks/example_data/'\n",
    "\n",
    "blocks       = ['grat', 'nat', 'bck', 'obj']\n",
    "fbands       = ['low','high','higher'] \n",
    "\n",
    "fband        = 0\n",
    "cond         = 0\n",
    "  \n",
    "#fname = str(example_data + 'mvtfr_example_' + fbands[fband] + '.npy')\n",
    "fname = str(results + 'mvtfr_' + blocks[cond] + '_' + fbands[fband] + '.npy')\n",
    "tfrs = np.load(fname,allow_pickle=True).item()\n",
    "tfr = tfrs['tfr']\n",
    "tfr_null = tfrs['tfr_null']\n",
    "\n",
    "plot_mvtfr_stats(cond, tfr, tfr_null, fband, alpha = 0.05, correction='space')\n",
    "plot_mvtfr_stats(cond, tfr, tfr_null, fband, alpha = 0.05, correction='frequency')\n",
    "plot_mvtfr_stats(cond, tfr, tfr_null, fband, alpha = 0.05, correction='space-frequency')"
   ]
  },
  {
   "cell_type": "code",
   "execution_count": null,
   "metadata": {},
   "outputs": [],
   "source": [
    "import numpy as np\n",
    "from tfrStats.plot_mvtfr_stats import plot_mvtfr_stats as plot_mvtfr_stats\n",
    "\n",
    "results      = '/Volumes/Gandalf/MWlamprop/results/stats/multivariate/'\n",
    "example_data = '/Users/nicogravel/Documents/Websites/tfrStats/tfrStats_local/docs/source/notebooks/example_data/'\n",
    "\n",
    "blocks       = ['grat', 'nat', 'bck', 'obj']\n",
    "fbands       = ['low','high','higher'] \n",
    "\n",
    "fband        = 1\n",
    "cond         = 0\n",
    "  \n",
    "#fname = str(example_data + 'mvtfr_example_' + fbands[fband] + '.npy')\n",
    "fname = str(results + 'mvtfr_' + blocks[cond] + '_' + fbands[fband] + '.npy')\n",
    "tfrs = np.load(fname,allow_pickle=True).item()\n",
    "tfr = tfrs['tfr']\n",
    "tfr_null = tfrs['tfr_null']\n",
    "\n",
    "plot_mvtfr_stats(cond, tfr, tfr_null, fband, alpha = 0.05, correction='space')\n",
    "plot_mvtfr_stats(cond, tfr, tfr_null, fband, alpha = 0.05, correction='frequency')\n",
    "plot_mvtfr_stats(cond, tfr, tfr_null, fband, alpha = 0.05, correction='space-frequency')"
   ]
  },
  {
   "cell_type": "code",
   "execution_count": null,
   "metadata": {},
   "outputs": [],
   "source": [
    "import numpy as np\n",
    "from tfrStats.plot_mvtfr_stats import plot_mvtfr_stats as plot_mvtfr_stats\n",
    "\n",
    "results      = '/Volumes/Gandalf/MWlamprop/results/stats/multivariate/'\n",
    "example_data = '/Users/nicogravel/Documents/Websites/tfrStats/tfrStats_local/docs/source/notebooks/example_data/'\n",
    "\n",
    "blocks       = ['grat', 'nat', 'bck', 'obj']\n",
    "fbands       = ['low','high','higher'] \n",
    "\n",
    "fband        = 2\n",
    "cond         = 0\n",
    "  \n",
    "#fname = str(example_data + 'mvtfr_example_' + fbands[fband] + '.npy')\n",
    "fname = str(results + 'mvtfr_' + blocks[cond] + '_' + fbands[fband] + '.npy')\n",
    "tfrs = np.load(fname,allow_pickle=True).item()\n",
    "tfr = tfrs['tfr']\n",
    "tfr_null = tfrs['tfr_null']\n",
    "\n",
    "plot_mvtfr_stats(cond, tfr, tfr_null, fband, alpha = 0.05, correction='space')\n",
    "plot_mvtfr_stats(cond, tfr, tfr_null, fband, alpha = 0.05, correction='frequency')\n",
    "plot_mvtfr_stats(cond, tfr, tfr_null, fband, alpha = 0.05, correction='space-frequency')"
   ]
  }
 ],
 "metadata": {
  "colab": {
   "collapsed_sections": [
    "szKEE41WIZlD",
    "cuKdKsiT-xLD",
    "OWH7Fjfy_K5Q",
    "FFpTHYv8BYEw",
    "ZhUt1I13Bbfv",
    "dcOdfYWeBhYn",
    "-lRqU1vNBkEp"
   ],
   "provenance": []
  },
  "kernelspec": {
   "display_name": "Python 3",
   "name": "python3"
  },
  "language_info": {
   "codemirror_mode": {
    "name": "ipython",
    "version": 3
   },
   "file_extension": ".py",
   "mimetype": "text/x-python",
   "name": "python",
   "nbconvert_exporter": "python",
   "pygments_lexer": "ipython3",
   "version": "3.8.18"
  }
 },
 "nbformat": 4,
 "nbformat_minor": 0
}
